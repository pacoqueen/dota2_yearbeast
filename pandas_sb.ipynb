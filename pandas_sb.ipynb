{
 "metadata": {
  "name": "",
  "signature": "sha256:b3578b03d57231c4a30cd07d95f1590dcd9fad704d0a74eaa88c50fcb4b5e552"
 },
 "nbformat": 3,
 "nbformat_minor": 0,
 "worksheets": [
  {
   "cells": [
    {
     "cell_type": "code",
     "collapsed": false,
     "input": [
      "import dota2yearbeast\n",
      "dota2yearbeast.DEBUG = False\n",
      "history = dota2yearbeast.get_json_data()"
     ],
     "language": "python",
     "metadata": {},
     "outputs": [],
     "prompt_number": 12
    },
    {
     "cell_type": "code",
     "collapsed": false,
     "input": [],
     "language": "python",
     "metadata": {},
     "outputs": [
      {
       "output_type": "stream",
       "stream": "stdout",
       "text": [
        "--> 13/02/2015 21:45\n",
        "--> 14/02/2015 01:30\n",
        "--> 14/02/2015 04:35\n",
        "--> 14/02/2015 07:25\n",
        "--> 14/02/2015 10:47\n",
        "--> 14/02/2015 14:02\n",
        "--> 14/02/2015 19:13\n",
        "--> 14/02/2015 22:33\n",
        "--> 15/02/2015 02:17\n",
        "--> 15/02/2015 04:57\n",
        "--> 15/02/2015 09:27\n",
        "--> 15/02/2015 12:25\n",
        "--> 15/02/2015 19:12\n",
        "--> 15/02/2015 22:29\n",
        "--> 16/02/2015 01:55\n",
        "--> 16/02/2015 05:33\n",
        "--> 16/02/2015 08:51\n",
        "--> 16/02/2015 11:55\n",
        "--> 16/02/2015 14:51\n",
        "--> 16/02/2015 17:52\n",
        "--> 16/02/2015 21:02\n",
        "--> 17/02/2015 00:24\n",
        "--> 17/02/2015 03:21\n",
        "--> 17/02/2015 06:18\n",
        "--> 17/02/2015 09:28\n",
        "--> 17/02/2015 12:35\n",
        "--> 17/02/2015 16:13\n",
        "--> 17/02/2015 19:03\n",
        "--> 17/02/2015 22:11\n",
        "--> 18/02/2015 01:20\n",
        "--> 18/02/2015 04:56\n",
        "--> 18/02/2015 08:34\n",
        "--> 18/02/2015 12:11\n",
        "--> 18/02/2015 15:31\n",
        "--> 18/02/2015 18:35\n",
        "--> 18/02/2015 21:56\n",
        "--> 19/02/2015 00:55\n",
        "--> 19/02/2015 04:06\n",
        "--> 19/02/2015 07:32\n",
        "--> 19/02/2015 11:21\n",
        "--> 19/02/2015 15:07\n",
        "--> 19/02/2015 18:04\n",
        "--> 19/02/2015 21:02\n",
        "--> 20/02/2015 00:00\n",
        "--> 20/02/2015 03:50\n",
        "--> 20/02/2015 07:26\n",
        "--> 20/02/2015 10:50\n",
        "--> 20/02/2015 14:00\n",
        "--> 20/02/2015 17:37\n",
        "--> 20/02/2015 21:13\n",
        "--> 21/02/2015 00:35\n",
        "--> 21/02/2015 04:02\n",
        "--> 21/02/2015 07:03\n",
        "--> 21/02/2015 10:45\n",
        "--> 21/02/2015 13:50\n",
        "--> 21/02/2015 17:14\n",
        "--> 21/02/2015 20:25\n",
        "--> 22/02/2015 00:06\n",
        "--> 22/02/2015 03:40\n",
        "--> 22/02/2015 07:27\n",
        "--> 22/02/2015 11:12\n",
        "--> 22/02/2015 14:40\n",
        "--> 22/02/2015 18:24\n",
        "--> 22/02/2015 21:54\n",
        "--> 23/02/2015 01:05\n",
        "--> 23/02/2015 04:29\n",
        "--> 23/02/2015 08:16\n",
        "--> 23/02/2015 11:57\n",
        "--> 23/02/2015 15:12\n",
        "--> 23/02/2015 18:34\n",
        "--> 23/02/2015 22:25\n",
        "--> 24/02/2015 01:53\n",
        "--> 24/02/2015 05:12\n",
        "--> 24/02/2015 08:04\n",
        "--> 24/02/2015 11:36\n",
        "--> 24/02/2015 14:52\n",
        "--> 24/02/2015 18:32\n",
        "--> 24/02/2015 22:17\n",
        "--> 25/02/2015 01:48\n",
        "--> 25/02/2015 05:30\n",
        "--> 25/02/2015 08:42\n",
        "--> 25/02/2015 11:39\n",
        "--> 25/02/2015 15:14\n",
        "--> 25/02/2015 18:48\n",
        "--> 25/02/2015 22:19\n",
        "--> 26/02/2015 01:42\n",
        "--> 26/02/2015 05:00\n",
        "==> 26/02/2015 08:45\n"
       ]
      }
     ],
     "prompt_number": 10
    },
    {
     "cell_type": "code",
     "collapsed": false,
     "input": [
      "import datetime\n",
      "import pandas as pd\n",
      "indx = pd.Index(history.keys())\n",
      "durations = [int(history[i]['duration']) for i in history]\n",
      "deltas = []\n",
      "fechahora = None\n",
      "for i in range(len(history)):\n",
      "        try:\n",
      "            deltas.append((history.keys()[i] - history.keys()[i+1]).total_seconds())\n",
      "        except IndexError:\n",
      "            deltas.append(0)\n"
     ],
     "language": "python",
     "metadata": {},
     "outputs": [],
     "prompt_number": 39
    },
    {
     "cell_type": "code",
     "collapsed": false,
     "input": [
      "%pylab inline\n",
      "dtf = pd.DataFrame({\"Deltas\": deltas, \"Durations\": durations}, index = indx)\n",
      "dtf.describe()\n",
      "dtf.plot()"
     ],
     "language": "python",
     "metadata": {},
     "outputs": [
      {
       "output_type": "stream",
       "stream": "stdout",
       "text": [
        "Populating the interactive namespace from numpy and matplotlib\n"
       ]
      },
      {
       "metadata": {},
       "output_type": "pyout",
       "prompt_number": 40,
       "text": [
        "<matplotlib.axes._subplots.AxesSubplot at 0x7fbd53a05690>"
       ]
      },
      {
       "metadata": {},
       "output_type": "display_data",
       "png": "[encoded data removed]",
       "text": [
        "<matplotlib.figure.Figure at 0x7fbd53a87550>"
       ]
      }
     ],
     "prompt_number": 40
    },
    {
     "cell_type": "code",
     "collapsed": false,
     "input": [
      "sum(dtf.mean())"
     ],
     "language": "python",
     "metadata": {},
     "outputs": [
      {
       "metadata": {},
       "output_type": "pyout",
       "prompt_number": 49,
       "text": [
        "13266.840909090908"
       ]
      }
     ],
     "prompt_number": 49
    }
   ],
   "metadata": {}
  }
 ]
}